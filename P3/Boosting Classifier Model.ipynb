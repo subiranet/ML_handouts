{
 "cells": [
  {
   "cell_type": "markdown",
   "id": "1aac3b46",
   "metadata": {},
   "source": [
    "# Projecte 3: Boosting Classifier Model\n",
    "\n",
    "La sessió consisteix en crear un boosting classifier amb _decision trees_ de la llibreria sklearn com a _weak model_. \n",
    "\n",
    "Boosting (https://en.wikipedia.org/wiki/Boosting_(machine_learning)): tècnica d'aprenentatge automàtic que consiteix en entrenar múltiples models (_weak models_) seqüencialment per obtenir un model general _strong model_. Podem definir un _weak learner_ o _weak model_ com un classificador el qual està lleugerament correlacionat amb problema final i que és millor que intentar-ho encertar aleatòriament, és a dir, que no ha de veure tot el problema sener; considerem que un model weak learner si encerta entre el 55% i el 65% de bo. La idea és que cada _weak model_ es centra en una feature concreta o en arreglar els errors del classificador anterior.\n",
    "\n",
    "En essència, el _boosting_ respon a la pregunta següent:\n",
    "\n",
    "```Can a set of weak learners create a strong single learner? ```\n",
    "\n",
    "La resposta a aquesta pregunta es **sí**, i ho veurem en aquesta sessió.\n",
    "\n",
    "En el cas concret dels **classificadors** el que hem d'aconseguir és el següent: \n",
    "```\n",
    "[...] most boosting algorithms consist of iteratively learning weak classifiers with respect to a distribution and adding them to a final strong classifier. When they are added, they are weighted in a way that is related to the weak learners' accuracy. After a weak learner is added, the data weights are readjusted, known as \"re-weighting\". Misclassified input data gain a higher weight and examples that are classified correctly lose weight.[note 1] Thus, future weak learners focus more on the examples that previous weak learners misclassified._\n",
    "```"
   ]
  },
  {
   "cell_type": "markdown",
   "id": "6284157e",
   "metadata": {},
   "source": [
    "## Context\n",
    "\n",
    "El dataset en qüestió (https://www.kaggle.com/datasets/anmolkumar/health-insurance-cross-sell-prediction) és un dataset d'assegurançes, el qual vol predir si els seus actuals clients estarien interessats en també adquirir una *assegurança de cotxe*. És a dir, de cilents ja existents d'una asseguradora, quina és la probabilitat de que els hi interessi adquirir una assegurança de cotxe per al seu vehicle. Anem a explorar el Dataset:"
   ]
  },
  {
   "cell_type": "code",
   "id": "a5e1dba7",
   "metadata": {
    "ExecuteTime": {
     "end_time": "2024-11-20T15:20:37.653752Z",
     "start_time": "2024-11-20T15:20:36.028606Z"
    }
   },
   "source": [
    "#Generate Baseline solution with a RandomForest\n",
    "from sklearn.ensemble import RandomForestClassifier\n",
    "import pandas as pd\n",
    "import matplotlib.pyplot as plt\n",
    "\n",
    "df = pd.read_csv('dataset/train_project3.csv')\n",
    "print(df.shape)\n",
    "df.head()"
   ],
   "outputs": [
    {
     "name": "stdout",
     "output_type": "stream",
     "text": [
      "(304887, 12)\n"
     ]
    },
    {
     "data": {
      "text/plain": [
       "       id Gender  Age  Driving_License  Region_Code  Previously_Insured  \\\n",
       "0  339630   Male   21                1         28.0                   0   \n",
       "1  240794   Male   45                1         28.0                   0   \n",
       "2  124429   Male   71                1         41.0                   0   \n",
       "3  171989   Male   41                1         49.0                   0   \n",
       "4  327313   Male   77                1         28.0                   0   \n",
       "\n",
       "  Vehicle_Age Vehicle_Damage  Annual_Premium  Policy_Sales_Channel  Vintage  \\\n",
       "0    < 1 Year            Yes         44470.0                 152.0       11   \n",
       "1    1-2 Year            Yes          2630.0                  26.0       45   \n",
       "2    1-2 Year            Yes          2630.0                   7.0       11   \n",
       "3    1-2 Year            Yes         36332.0                 124.0      257   \n",
       "4    1-2 Year            Yes         42764.0                 122.0      298   \n",
       "\n",
       "   Response  \n",
       "0         1  \n",
       "1         0  \n",
       "2         0  \n",
       "3         1  \n",
       "4         0  "
      ],
      "text/html": [
       "<div>\n",
       "<style scoped>\n",
       "    .dataframe tbody tr th:only-of-type {\n",
       "        vertical-align: middle;\n",
       "    }\n",
       "\n",
       "    .dataframe tbody tr th {\n",
       "        vertical-align: top;\n",
       "    }\n",
       "\n",
       "    .dataframe thead th {\n",
       "        text-align: right;\n",
       "    }\n",
       "</style>\n",
       "<table border=\"1\" class=\"dataframe\">\n",
       "  <thead>\n",
       "    <tr style=\"text-align: right;\">\n",
       "      <th></th>\n",
       "      <th>id</th>\n",
       "      <th>Gender</th>\n",
       "      <th>Age</th>\n",
       "      <th>Driving_License</th>\n",
       "      <th>Region_Code</th>\n",
       "      <th>Previously_Insured</th>\n",
       "      <th>Vehicle_Age</th>\n",
       "      <th>Vehicle_Damage</th>\n",
       "      <th>Annual_Premium</th>\n",
       "      <th>Policy_Sales_Channel</th>\n",
       "      <th>Vintage</th>\n",
       "      <th>Response</th>\n",
       "    </tr>\n",
       "  </thead>\n",
       "  <tbody>\n",
       "    <tr>\n",
       "      <th>0</th>\n",
       "      <td>339630</td>\n",
       "      <td>Male</td>\n",
       "      <td>21</td>\n",
       "      <td>1</td>\n",
       "      <td>28.0</td>\n",
       "      <td>0</td>\n",
       "      <td>&lt; 1 Year</td>\n",
       "      <td>Yes</td>\n",
       "      <td>44470.0</td>\n",
       "      <td>152.0</td>\n",
       "      <td>11</td>\n",
       "      <td>1</td>\n",
       "    </tr>\n",
       "    <tr>\n",
       "      <th>1</th>\n",
       "      <td>240794</td>\n",
       "      <td>Male</td>\n",
       "      <td>45</td>\n",
       "      <td>1</td>\n",
       "      <td>28.0</td>\n",
       "      <td>0</td>\n",
       "      <td>1-2 Year</td>\n",
       "      <td>Yes</td>\n",
       "      <td>2630.0</td>\n",
       "      <td>26.0</td>\n",
       "      <td>45</td>\n",
       "      <td>0</td>\n",
       "    </tr>\n",
       "    <tr>\n",
       "      <th>2</th>\n",
       "      <td>124429</td>\n",
       "      <td>Male</td>\n",
       "      <td>71</td>\n",
       "      <td>1</td>\n",
       "      <td>41.0</td>\n",
       "      <td>0</td>\n",
       "      <td>1-2 Year</td>\n",
       "      <td>Yes</td>\n",
       "      <td>2630.0</td>\n",
       "      <td>7.0</td>\n",
       "      <td>11</td>\n",
       "      <td>0</td>\n",
       "    </tr>\n",
       "    <tr>\n",
       "      <th>3</th>\n",
       "      <td>171989</td>\n",
       "      <td>Male</td>\n",
       "      <td>41</td>\n",
       "      <td>1</td>\n",
       "      <td>49.0</td>\n",
       "      <td>0</td>\n",
       "      <td>1-2 Year</td>\n",
       "      <td>Yes</td>\n",
       "      <td>36332.0</td>\n",
       "      <td>124.0</td>\n",
       "      <td>257</td>\n",
       "      <td>1</td>\n",
       "    </tr>\n",
       "    <tr>\n",
       "      <th>4</th>\n",
       "      <td>327313</td>\n",
       "      <td>Male</td>\n",
       "      <td>77</td>\n",
       "      <td>1</td>\n",
       "      <td>28.0</td>\n",
       "      <td>0</td>\n",
       "      <td>1-2 Year</td>\n",
       "      <td>Yes</td>\n",
       "      <td>42764.0</td>\n",
       "      <td>122.0</td>\n",
       "      <td>298</td>\n",
       "      <td>0</td>\n",
       "    </tr>\n",
       "  </tbody>\n",
       "</table>\n",
       "</div>"
      ]
     },
     "execution_count": 1,
     "metadata": {},
     "output_type": "execute_result"
    }
   ],
   "execution_count": 1
  },
  {
   "cell_type": "markdown",
   "id": "18a71d95",
   "metadata": {},
   "source": [
    "Fem una petita investigació de les classes de resposta"
   ]
  },
  {
   "cell_type": "code",
   "id": "1180cdfd",
   "metadata": {
    "ExecuteTime": {
     "end_time": "2024-11-20T15:20:37.853928Z",
     "start_time": "2024-11-20T15:20:37.722126Z"
    }
   },
   "source": [
    "response = df[\"Response\"].value_counts()\n",
    "response.plot(kind='bar', color=['blue', 'red'])\n",
    "\n",
    "zeros, ones = response[0]/df.shape[0], response[1]/df.shape[0]\n",
    "\n",
    "print(f\"Total de zeros: {response[0]}, percentual: {round(zeros,4)*100}%\")\n",
    "print(f\"Total de uns: {response[1]}, percentual: {round(ones,4)*100}%\")\n"
   ],
   "outputs": [
    {
     "name": "stdout",
     "output_type": "stream",
     "text": [
      "Total de zeros: 267573, percentual: 87.76%\n",
      "Total de uns: 37314, percentual: 12.24%\n"
     ]
    },
    {
     "data": {
      "text/plain": [
       "<Figure size 640x480 with 1 Axes>"
      ],
      "image/png": "[encoded data removed]"
     },
     "metadata": {},
     "output_type": "display_data"
    }
   ],
   "execution_count": 2
  },
  {
   "cell_type": "markdown",
   "id": "223be02d",
   "metadata": {},
   "source": [
    "És a dir, ens trobem davant del que es diu un dataset desequilibrat, o bé un _imabalanced dataset_, on hi ha moltes més observacions d'una classe o de l'altra. En general, aquest no és un cas ideal ja que pot portar a diferents problemes. Hi ha múltiples maneres de solucionar-ho, i a la pràctica us demanem que ho arregleu amb una _Weighted Binary Cross Entropy_"
   ]
  },
  {
   "cell_type": "markdown",
   "id": "90fc67f4",
   "metadata": {},
   "source": [
    "## Binary Cross Entropy o Log Loss\n",
    "\n",
    "En binari ens referim al tipus de classifició entre dues classes. Per el model saber com de bé està classificant entre les dues classes, mira a l'espai n-dimensional de característiques com de lluny està el valor que ha donat a una observació. Aquesta \"distància\" és el que s'anomena la _loss function_, que en el cas de la classificació binària és\n",
    "\n",
    "$L_B = -\\cfrac{1}{N} \\sum_{i=0}^N[y_i log(p_i) + (1-y_i)log(1-p_i)]$, on $N$ són les observacions, $y_i$ és el valor de veritat i $p_i$ és la probabilitat predita per la mostra $i$\n",
    "\n",
    "Concretament (i com es desil·la de l'expressió) la formula calcula la pèrdua (com de lluny s'ha quedat la precció) comparant la probabilitat predita amb el valor real de l'observació, per tant, com més lluny està la predicció de la veritat, pitjor pèrdua té i més gran és el valor de la funció.\n",
    "\n",
    "Transpira de l'explicació doncs, que si tenim moltes més mostres d'una classe que de l'altra el valor de la funció de pèrdua queda esbiaixat cap a la predicció d'una classe.\n",
    "\n",
    "## Weighted Binary Cross Entropy\n",
    "\n",
    "La idea és equilibrar el desbalançeig de mostres afegint un coeficient que faci que la pèrdua de la classe minoritària tingui més pes que no la de la classe majoritària:\n",
    "\n",
    "$L_{WB} = -\\cfrac{1}{N} \\sum_{i=0}^N[w_1 y_i log(p_i) + w_0 (1-y_i)log(1-p_i)]; w_0 +w_1 = 1$\n",
    "\n",
    "On $w_1$ és el pes de la classe majoritària i $w_0$ és el pes de la classe minoritària. El pesos han de ser inversament proporcionals a les freqüències de les classes, ergo tenint la classe minoritària (1) un pes més gran que la majoritària (0)\n"
   ]
  },
  {
   "cell_type": "markdown",
   "id": "5d78a314",
   "metadata": {},
   "source": [
    "## Baseline\n",
    "\n",
    "Una _baseline_ és una procediment de _benchmarking_ per comparar com el teu model funciona. Aquests han de ser senzills i ràpids d'implementar, i no tenen perque ser molt millors que endevinar aleatòriament la resposta. S'usen per comparar amb les modificacions que volem fer, de manera que vegem que el _boosting_ està millorant una aproximació ingènua dins de l'aprenentatge automàtic i per jutjar si val la pena!"
   ]
  },
  {
   "cell_type": "code",
   "id": "050b9fb1",
   "metadata": {
    "ExecuteTime": {
     "end_time": "2024-11-20T15:21:58.306895Z",
     "start_time": "2024-11-20T15:20:37.981686Z"
    }
   },
   "source": [
    "from sklearn.metrics import accuracy_score, precision_score, recall_score, f1_score, roc_auc_score\n",
    "\n",
    "# import data\n",
    "train = pd.read_csv('dataset/train_project3.csv',)\n",
    "test = pd.read_csv('dataset/test_project3.csv')\n",
    "\n",
    "#train the model -> this is a baseline, only the simple features are used\n",
    "model = RandomForestClassifier()\n",
    "X = train[['Age','Driving_License','Annual_Premium','Vintage','Region_Code']]\n",
    "y = train['Response']\n",
    "model.fit(X,y)\n",
    "y_train = model.predict(X)\n",
    "\n",
    "accuracy = accuracy_score(y, y_train)\n",
    "precision = precision_score(y, y_train)\n",
    "recall = recall_score(y, y_train)\n",
    "f1 = f1_score(y, y_train)\n",
    "roc_auc = roc_auc_score(y, y_train)\n",
    "\n",
    "# evaluate the test set\n",
    "X_test = test[['Age', 'Driving_License', 'Annual_Premium', 'Vintage', 'Region_Code']]\n",
    "y_test = model.predict(X_test)\n",
    "\n",
    "print(f\"Accuracy: {accuracy}\")\n",
    "print(f\"Precision: {precision}\")\n",
    "print(f\"Recall: {recall}\")\n",
    "print(f\"F1: {f1}\")\n",
    "print(f\"ROC AUC: {roc_auc}\")\n"
   ],
   "outputs": [
    {
     "name": "stdout",
     "output_type": "stream",
     "text": [
      "Accuracy: 0.9966610580313362\n",
      "Precision: 0.9951705320600273\n",
      "Recall: 0.9774615425845528\n",
      "F1: 0.9862365475095992\n",
      "ROC AUC: 0.9884000204317636\n"
     ]
    }
   ],
   "execution_count": 3
  },
  {
   "cell_type": "code",
   "id": "f5736d63",
   "metadata": {
    "ExecuteTime": {
     "end_time": "2024-11-20T15:21:58.407642Z",
     "start_time": "2024-11-20T15:21:58.349680Z"
    }
   },
   "source": [
    "# save our predictions in the Kaggle formats\n",
    "test['Response'] = y_test\n",
    "test[['id','Response']].to_csv('my_solution.csv',index=None)"
   ],
   "outputs": [],
   "execution_count": 4
  },
  {
   "cell_type": "markdown",
   "id": "9d1bf0b5",
   "metadata": {},
   "source": [
    "# Tasques\n",
    "\n",
    "1. Completeu la classe _BoostingClassifier_ i els seus dos mètodes _fit_ i _predict_ com veieu més adhient per obtenir els millors resultats al Dataset.\n",
    "2. Implementeu la funció *balance_weights* per veure quin pes assigna a cada vector.\n",
    "\n",
    "La idea és que trobeu quin calcul d'error, quin learning rate i quin estil de predicció dona millors resultats, també com quin repartiment de pesos balançeja millor el dataset. \n",
    "\n",
    "NOTA: per a que el resultat sigui el millor possible podeu tractar el dataset amb les eines apreses a les sessions 1 i 2 (tractament de categòriques, mirar correlacions, estratificar el train i test...).\n",
    "\n",
    "3. Penjeu els millors resultats al Kaggle!\n"
   ]
  },
  {
   "cell_type": "code",
   "id": "53c20ed1",
   "metadata": {
    "ExecuteTime": {
     "end_time": "2024-11-20T15:21:58.551419Z",
     "start_time": "2024-11-20T15:21:58.545986Z"
    }
   },
   "source": [
    "from sklearn.tree import DecisionTreeClassifier\n",
    "import numpy as np\n",
    "\n",
    "class BoostingClassifier:\n",
    "    def __init__(self, X: np.array, y: np.array, w: np.array):\n",
    "        self.X = X\n",
    "        self.y = y\n",
    "        self.weights = w / w.sum()  # Normalize initial weights\n",
    "        self.n = X.shape[0]\n",
    "        self.trees = []  # Store weak learners\n",
    "        self.learning_rates = []\n",
    "        #self.predictions = [] # es poden guardar les prediccions en comptes dels arbres\n",
    "\n",
    "    def fit(self, num_trees, shrinkage=1.0, factor=1.0):\n",
    "        for m in range(num_trees):\n",
    "            # Train weak learner\n",
    "            tree = DecisionTreeClassifier(max_depth=2)\n",
    "            tree.fit(self.X, self.y, sample_weight=self.weights)\n",
    "            predictions = tree.predict(self.X)\n",
    "            \n",
    "            \"\"\"\n",
    "            TODO:\n",
    "            1. Calcular les mostres mal classificades\n",
    "            2. Calcular l'error de l'arbre\n",
    "            3. Actualitzar els pesos segons la predicció d'aquesta iteració\n",
    "            4. Calcular el Learning Rate\n",
    "            5. Guardar les variables\n",
    "            \"\"\"\n",
    "\n",
    "    def predict(self, X):\n",
    "        \"\"\"\n",
    "        TODO: MÈTODE QUE AJUNTI LES PREDICCIONS DELS ARBRES AMB UNA COMBINACIÓ LINEAL DELS PESOS.\n",
    "        \"\"\"\n",
    "        return result\n",
    "\n",
    "\n",
    "def balance_weights(responses: list[int]):\n",
    "    \"\"\"\n",
    "    Assignates different weights depending on the class\n",
    "\n",
    "    Args:\n",
    "        responses binary vector\n",
    "    \n",
    "    Returns:\n",
    "        list[float] with numbers between zero and one being the starting weight\n",
    "    \"\"\"\n",
    "    return balanced"
   ],
   "outputs": [],
   "execution_count": 5
  },
  {
   "cell_type": "code",
   "id": "bb0d218a",
   "metadata": {
    "ExecuteTime": {
     "end_time": "2024-11-20T15:21:58.960571Z",
     "start_time": "2024-11-20T15:21:58.597092Z"
    }
   },
   "source": [
    "# A EXECUTAR QUAN ESTIGUI FET\n",
    "\n",
    "X_train, X_test, y_train, y_test = sklearn.train_test_split(X, y, test_size=0.4)\n",
    "\n",
    "initial_weights = balance_weights(y_train)\n",
    "\n",
    "bc = BoostingClassifier(X_train, y_train, initial_weights)\n",
    "bc.fit(15, shrinkage=0.1, factor = 1.55)\n",
    "result = bc.predict(X_train)\n",
    "\n",
    "result = bc.predict(X_test)"
   ],
   "outputs": [
    {
     "ename": "AttributeError",
     "evalue": "module 'sklearn' has no attribute 'train_test_split'",
     "output_type": "error",
     "traceback": [
      "\u001B[0;31m---------------------------------------------------------------------------\u001B[0m",
      "\u001B[0;31mAttributeError\u001B[0m                            Traceback (most recent call last)",
      "Cell \u001B[0;32mIn[6], line 3\u001B[0m\n\u001B[1;32m      1\u001B[0m \u001B[38;5;66;03m# A EXECUTAR QUAN ESTIGUI FET\u001B[39;00m\n\u001B[0;32m----> 3\u001B[0m X_train, X_test, y_train, y_test \u001B[38;5;241m=\u001B[39m \u001B[43msklearn\u001B[49m\u001B[38;5;241;43m.\u001B[39;49m\u001B[43mtrain_test_split\u001B[49m(X, y, test_size\u001B[38;5;241m=\u001B[39m\u001B[38;5;241m0.4\u001B[39m)\n\u001B[1;32m      5\u001B[0m initial_weights \u001B[38;5;241m=\u001B[39m balance_weights(y_train)\n\u001B[1;32m      7\u001B[0m bc \u001B[38;5;241m=\u001B[39m BoostingClassifier(X_train, y_train, initial_weights)\n",
      "\u001B[0;31mAttributeError\u001B[0m: module 'sklearn' has no attribute 'train_test_split'"
     ]
    }
   ],
   "execution_count": 6
  },
  {
   "cell_type": "markdown",
   "id": "51f3641c",
   "metadata": {},
   "source": [
    "# Preguntes\n",
    "Per acabar, contesteu les següents preguntes:\n",
    "1. Quines mètriques heu fet servir per avaluar els models? Com depenen aquestes mètriques segons el balanç del model?\n",
    "2. Prova d'inicialitzar el model amb els pesos a $1/n$. Hi ha diferència entre pesos uniformes o cambiants per classe?\n",
    "3. Descriu breument l'estratègia d'actualitzar pesos, calcul d'errors, calcul de learning rate i predicció final. Investiga quines són les estratègies que utilitza el model AdaBoost i discuteix com de similars són les teves.\n",
    "4. Compara els resultats amb els següents models de baseline: RandomForest, Bagging i AdaBoost."
   ]
  },
  {
   "cell_type": "markdown",
   "id": "478715a0",
   "metadata": {},
   "source": [
    "# --- Respostes Preguntes ---\n",
    "1.\n",
    "2.\n",
    "3."
   ]
  },
  {
   "cell_type": "markdown",
   "id": "39c75977",
   "metadata": {},
   "source": [
    "## Entrega: 8 de Desembre de 2024, 23:59"
   ]
  },
  {
   "cell_type": "markdown",
   "id": "ee40d15c",
   "metadata": {},
   "source": []
  }
 ],
 "metadata": {
  "kernelspec": {
   "display_name": "Python 3 (ipykernel)",
   "language": "python",
   "name": "python3"
  },
  "language_info": {
   "codemirror_mode": {
    "name": "ipython",
    "version": 3
   },
   "file_extension": ".py",
   "mimetype": "text/x-python",
   "name": "python",
   "nbconvert_exporter": "python",
   "pygments_lexer": "ipython3",
   "version": "3.11.7"
  }
 },
 "nbformat": 4,
 "nbformat_minor": 5
}
